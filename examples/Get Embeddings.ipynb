{
 "cells": [
  {
   "cell_type": "code",
   "execution_count": 15,
   "id": "6e73a056",
   "metadata": {},
   "outputs": [
    {
     "name": "stdout",
     "output_type": "stream",
     "text": [
      "The autoreload extension is already loaded. To reload it, use:\n",
      "  %reload_ext autoreload\n"
     ]
    }
   ],
   "source": [
    "%matplotlib inline\n",
    "%load_ext autoreload\n",
    "%autoreload 2\n",
    "import os\n",
    "import sys\n",
    "dir_path = os.path.dirname(os.path.realpath('__file__'))\n",
    "sys.path.append('/'.join(dir_path.split('/')[:-1]) + '/src')\n",
    "sys.path.append('/'.join(dir_path.split('/')[:-1]) + '/src/model')\n",
    "import CATH_dset3\n",
    "import Coord_VAE_seq\n",
    "import torch\n",
    "from matplotlib import pyplot as plt"
   ]
  },
  {
   "cell_type": "code",
   "execution_count": 12,
   "id": "d47be941",
   "metadata": {},
   "outputs": [],
   "source": [
    "dset = CATH_dset3.CATH_feats(partition = 'test', mask_rate = 0, seq = True)\n",
    "model = Coord_VAE_seq.Coord_VAE_seq()\n",
    "state_dict = torch.load('/mnt/local/blai/StructGen/trained_models/Coord_VAE/Coord_VAE_seq/Coord_VAE_seq', map_location = torch.device('cpu'))\n",
    "model.load_state_dict(state_dict['state_dict'])\n",
    "device = torch.device('cuda:2')\n",
    "model = model.to(device).eval()"
   ]
  },
  {
   "cell_type": "code",
   "execution_count": 14,
   "id": "4f9c21f5",
   "metadata": {},
   "outputs": [],
   "source": [
    "sample = dset.feat_from_pdb(pdb_path = '6z2i.pdb', chain = 'A')\n",
    "native_seq = sample[-1]\n",
    "scalar_feat = sample[1]\n",
    "edge_feat = sample[2]"
   ]
  },
  {
   "cell_type": "code",
   "execution_count": 17,
   "id": "c8335219",
   "metadata": {},
   "outputs": [],
   "source": [
    "z = model.get_latent(scalar_feat=scalar_feat.unsqueeze(0).to(device),edge_feat = edge_feat.unsqueeze(0).to(device))"
   ]
  },
  {
   "cell_type": "code",
   "execution_count": 18,
   "id": "faee1297",
   "metadata": {},
   "outputs": [
    {
     "data": {
      "text/plain": [
       "torch.Size([1, 168, 64])"
      ]
     },
     "execution_count": 18,
     "metadata": {},
     "output_type": "execute_result"
    }
   ],
   "source": [
    "plt.show(z)"
   ]
  },
  {
   "cell_type": "code",
   "execution_count": null,
   "id": "56599ba6",
   "metadata": {},
   "outputs": [],
   "source": []
  }
 ],
 "metadata": {
  "kernelspec": {
   "display_name": "denovo_cpd",
   "language": "python",
   "name": "denovo_cpd"
  },
  "language_info": {
   "codemirror_mode": {
    "name": "ipython",
    "version": 3
   },
   "file_extension": ".py",
   "mimetype": "text/x-python",
   "name": "python",
   "nbconvert_exporter": "python",
   "pygments_lexer": "ipython3",
   "version": "3.8.12"
  }
 },
 "nbformat": 4,
 "nbformat_minor": 5
}
