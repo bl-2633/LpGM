{
 "cells": [
  {
   "cell_type": "code",
   "execution_count": 5,
   "metadata": {},
   "outputs": [],
   "source": [
    "import sys\n",
    "pl_path = \"/mnt/c/Users/mm851/PycharmProjects/ProteinLearning\"\n",
    "if pl_path not in sys.path:\n",
    "    sys.path.append(pl_path)"
   ]
  },
  {
   "cell_type": "code",
   "execution_count": 18,
   "metadata": {},
   "outputs": [
    {
     "name": "stdout",
     "output_type": "stream",
     "text": [
      "PyRosetta-4 2020 [Rosetta PyRosetta4.Release.python38.linux 2020.28+release.8ecab77aa50ac1301efe53641e07e09ac91fee3b 2020-07-07T16:41:06] retrieved from: http://www.pyrosetta.org\n",
      "(C) Copyright Rosetta Commons Member Institutions. Created in JHU by Sergey Lyskov and PyRosetta Team.\n",
      "\u001b[0mcore.init: \u001b[0mChecking for fconfig files in pwd and ./rosetta/flags\n",
      "\u001b[0mcore.init: \u001b[0mRosetta version: PyRosetta4.Release.python38.linux r260 2020.28+release.8ecab77 8ecab77aa50ac1301efe53641e07e09ac91fee3b http://www.pyrosetta.org 2020-07-07T16:41:06\n",
      "\u001b[0mcore.init: \u001b[0mcommand: PyRosetta -ex1 -ex2aro -database /usr/local/lib/python3.8/dist-packages/pyrosetta-2020.28+release.8ecab77-py3.8-linux-x86_64.egg/pyrosetta/database\n",
      "\u001b[0mbasic.random.init_random_generator: \u001b[0m'RNG device' seed mode, using '/dev/urandom', seed=1715512232 seed_offset=0 real_seed=1715512232\n",
      "\u001b[0mbasic.random.init_random_generator: \u001b[0mRandomGenerator:init: Normal mode, seed=1715512232 RG_type=mt19937\n"
     ]
    }
   ],
   "source": [
    "from pyrosetta import *\n",
    "import numpy as np\n",
    "from einops import repeat\n",
    "import torch\n",
    "init()\n",
    "atoms = \"N CA C\".split(\" \")\n",
    "seq = \"ARNDCQEGHILKMFPSTWYV\"\n",
    "pose = pose_from_sequence(seq)\n",
    "b,n,a = 2,len(seq),len(atoms)\n",
    "coords = torch.zeros(n,a,3)\n",
    "for i in range(len(seq)):\n",
    "    for a_idx,a in enumerate(atoms):\n",
    "        crds = np.array(list(pose.residue(i+1).atom(a).xyz()))\n",
    "        coords[i,a_idx] = torch.tensor(crds)\n",
    "b,n,a = 1,len(seq),len(atoms)\n",
    "coords = repeat(coords, \"n a c -> b n a c\",b=b)                            "
   ]
  },
  {
   "cell_type": "code",
   "execution_count": 19,
   "metadata": {},
   "outputs": [],
   "source": [
    "from protein_learning.networks.ipa.rigid import Rigids\n",
    "bb_rigids = Rigids.RididFromBackbone(coords)"
   ]
  },
  {
   "cell_type": "code",
   "execution_count": 23,
   "metadata": {},
   "outputs": [
    {
     "name": "stdout",
     "output_type": "stream",
     "text": [
      "tensor(0.)\n"
     ]
    },
    {
     "data": {
      "text/plain": [
       "torch.Size([1, 20, 60, 3])"
      ]
     },
     "execution_count": 23,
     "metadata": {},
     "output_type": "execute_result"
    }
   ],
   "source": [
    "from einops import repeat, rearrange\n",
    "coords_rep = repeat(coords, \"b n a c -> b m (n a) c\", m=coords.shape[1])\n",
    "rrep = bb_rigids.apply(coords_rep)\n",
    "coords_resh = rearrange(coords,\"b n a c -> b () (n a) c\")\n",
    "rresh = bb_rigids.apply(coords_resh)\n",
    "print(torch.norm(rrep-rresh))\n",
    "rresh.shape"
   ]
  },
  {
   "cell_type": "code",
   "execution_count": null,
   "metadata": {},
   "outputs": [],
   "source": []
  }
 ],
 "metadata": {
  "kernelspec": {
   "display_name": "Python 3",
   "language": "python",
   "name": "python3"
  },
  "language_info": {
   "codemirror_mode": {
    "name": "ipython",
    "version": 3
   },
   "file_extension": ".py",
   "mimetype": "text/x-python",
   "name": "python",
   "nbconvert_exporter": "python",
   "pygments_lexer": "ipython3",
   "version": "3.8.2"
  }
 },
 "nbformat": 4,
 "nbformat_minor": 4
}
