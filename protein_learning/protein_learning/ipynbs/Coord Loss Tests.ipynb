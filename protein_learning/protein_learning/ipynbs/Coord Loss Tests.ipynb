{
 "cells": [
  {
   "cell_type": "code",
   "execution_count": 1,
   "metadata": {},
   "outputs": [],
   "source": [
    "import sys\n",
    "pl_path = \"/mnt/c/Users/mm851/PycharmProjects/ProteinLearning\"\n",
    "if pl_path not in sys.path:\n",
    "    sys.path.append(pl_path)"
   ]
  },
  {
   "cell_type": "code",
   "execution_count": 2,
   "metadata": {},
   "outputs": [
    {
     "name": "stdout",
     "output_type": "stream",
     "text": [
      "PyRosetta-4 2020 [Rosetta PyRosetta4.Release.python38.linux 2020.28+release.8ecab77aa50ac1301efe53641e07e09ac91fee3b 2020-07-07T16:41:06] retrieved from: http://www.pyrosetta.org\n",
      "(C) Copyright Rosetta Commons Member Institutions. Created in JHU by Sergey Lyskov and PyRosetta Team.\n",
      "\u001b[0mcore.init: \u001b[0mChecking for fconfig files in pwd and ./rosetta/flags\n",
      "\u001b[0mcore.init: \u001b[0mRosetta version: PyRosetta4.Release.python38.linux r260 2020.28+release.8ecab77 8ecab77aa50ac1301efe53641e07e09ac91fee3b http://www.pyrosetta.org 2020-07-07T16:41:06\n",
      "\u001b[0mcore.init: \u001b[0mcommand: PyRosetta -ex1 -ex2aro -database /usr/local/lib/python3.8/dist-packages/pyrosetta-2020.28+release.8ecab77-py3.8-linux-x86_64.egg/pyrosetta/database\n",
      "\u001b[0mbasic.random.init_random_generator: \u001b[0m'RNG device' seed mode, using '/dev/urandom', seed=1445208817 seed_offset=0 real_seed=1445208817\n",
      "\u001b[0mbasic.random.init_random_generator: \u001b[0mRandomGenerator:init: Normal mode, seed=1445208817 RG_type=mt19937\n",
      "\u001b[0mcore.chemical.GlobalResidueTypeSet: \u001b[0mFinished initializing fa_standard residue type set.  Created 981 residue types\n",
      "\u001b[0mcore.chemical.GlobalResidueTypeSet: \u001b[0mTotal time to initialize 0.695046 seconds.\n"
     ]
    }
   ],
   "source": [
    "from pyrosetta import *\n",
    "import numpy as np\n",
    "from einops import repeat\n",
    "import torch\n",
    "init()\n",
    "atoms = \"N CA C\".split(\" \")\n",
    "seq = \"ARNDCQEGHILKMFPSTWYV\"\n",
    "pose = pose_from_sequence(seq)\n",
    "b,n,a = 2,len(seq),len(atoms)\n",
    "coords = torch.zeros(n,a,3)\n",
    "for i in range(len(seq)):\n",
    "    for a_idx,a in enumerate(atoms):\n",
    "        crds = np.array(list(pose.residue(i+1).atom(a).xyz()))\n",
    "        coords[i,a_idx] = torch.tensor(crds)\n",
    "b,n,a = 1,len(seq),len(atoms)\n",
    "coords = repeat(coords, \"n a c -> b n a c\",b=b)                            "
   ]
  },
  {
   "cell_type": "code",
   "execution_count": null,
   "metadata": {},
   "outputs": [],
   "source": []
  },
  {
   "cell_type": "code",
   "execution_count": 3,
   "metadata": {},
   "outputs": [
    {
     "name": "stdout",
     "output_type": "stream",
     "text": [
      "sigma tensor(0.) aligned loss : tensor(1.) unaligned loss tensor(0.1775)\n",
      "sigma tensor(0.2500) aligned loss : tensor(0.9853) unaligned loss tensor(0.0568)\n",
      "sigma tensor(0.5000) aligned loss : tensor(0.9493) unaligned loss tensor(0.0989)\n",
      "sigma tensor(0.7500) aligned loss : tensor(0.9021) unaligned loss tensor(0.1451)\n",
      "sigma tensor(1.) aligned loss : tensor(0.8444) unaligned loss tensor(0.0573)\n"
     ]
    },
    {
     "name": "stderr",
     "output_type": "stream",
     "text": [
      "/home/mmcpartlon/.local/lib/python3.8/site-packages/Bio/SubsMat/__init__.py:126: BiopythonDeprecationWarning: Bio.SubsMat has been deprecated, and we intend to remove it in a future release of Biopython. As an alternative, please consider using Bio.Align.substitution_matrices as a replacement, and contact the Biopython developers if you still need the Bio.SubsMat module.\n",
      "  warnings.warn(\n"
     ]
    }
   ],
   "source": [
    "from protein_learning.networks.loss.coord_loss import TMLoss\n",
    "from einops import repeat, rearrange\n",
    "from pytorch3d.transforms import random_rotation\n",
    "apply_rot = lambda rot, x : torch.einsum(\"r c, b n c-> b n r\", rot, x)\n",
    "tm_loss = TMLoss()\n",
    "real_coords = repeat(coords[:1,:,1,],\"b n c -> b (n m) c\",m=5)\n",
    "for sigma in torch.linspace(0,1,5):\n",
    "    noisy_coords = real_coords + torch.randn_like(real_coords)*sigma\n",
    "    noisy_coords = apply_rot( random_rotation(), noisy_coords)\n",
    "    l1 = -tm_loss(real_coords,noisy_coords, align=True)\n",
    "    l2 = -tm_loss(real_coords,noisy_coords, align=False)\n",
    "    print(\"sigma\",sigma,\"aligned loss :\",l1,\"unaligned loss\",l2)"
   ]
  },
  {
   "cell_type": "code",
   "execution_count": 13,
   "metadata": {},
   "outputs": [
    {
     "name": "stdout",
     "output_type": "stream",
     "text": [
      "sigma tensor(0.) fape: tensor(1.2406e-05)\n",
      "sigma tensor(0.0750) fape: tensor(0.2108)\n",
      "sigma tensor(0.1500) fape: tensor(0.2571)\n",
      "sigma tensor(0.2250) fape: tensor(0.5007)\n",
      "sigma tensor(0.3000) fape: tensor(0.5795)\n"
     ]
    }
   ],
   "source": [
    "from protein_learning.networks.loss.coord_loss import FAPELoss\n",
    "apply_rot = lambda rot, x : torch.einsum(\"r c, b n a c-> b n a r\", rot, x)\n",
    "fape = FAPELoss()\n",
    "real_coords = coords\n",
    "for sigma in torch.linspace(0,0.3,5):\n",
    "    noisy_coords = real_coords + torch.randn_like(real_coords)*sigma\n",
    "    noisy_coords = apply_rot(random_rotation(), noisy_coords)\n",
    "    l1 = fape(real_coords,noisy_coords)\n",
    "    print(\"sigma\",sigma,\"fape:\",l1)"
   ]
  },
  {
   "cell_type": "code",
   "execution_count": 14,
   "metadata": {},
   "outputs": [],
   "source": [
    "from protein_learning.networks.common.rigid import Rigids"
   ]
  },
  {
   "cell_type": "code",
   "execution_count": 17,
   "metadata": {},
   "outputs": [],
   "source": [
    "bb_rigid = Rigids.RigidFromBackbone(coords)\n"
   ]
  },
  {
   "cell_type": "code",
   "execution_count": 24,
   "metadata": {},
   "outputs": [
    {
     "name": "stdout",
     "output_type": "stream",
     "text": [
      "torch.Size([1, 1, 20, 3])\n"
     ]
    }
   ],
   "source": [
    "from einops import rearrange, repeat\n",
    "rep_coords = repeat(coords[:,:,1], \"b n c -> b () n c\")\n",
    "print(rep_coords.shape)\n",
    "tmp = bb_rigid.apply_inverse(rep_coords)\n"
   ]
  },
  {
   "cell_type": "code",
   "execution_count": 25,
   "metadata": {},
   "outputs": [
    {
     "data": {
      "text/plain": [
       "tensor([[[ 0.0000,  3.8021,  7.2856, 10.9825, 14.5712, 18.2465, 21.8568,\n",
       "          25.5229, 29.1424, 32.8033, 36.4281, 40.0857, 43.7137, 47.3690,\n",
       "          50.9993, 54.6529, 58.2849, 61.9373, 65.5705, 69.2219],\n",
       "         [ 3.8021,  0.0000,  3.8021,  7.2856, 10.9825, 14.5712, 18.2465,\n",
       "          21.8568, 25.5229, 29.1424, 32.8033, 36.4280, 40.0857, 43.7137,\n",
       "          47.3690, 50.9993, 54.6529, 58.2849, 61.9373, 65.5705],\n",
       "         [ 7.2856,  3.8021,  0.0000,  3.8021,  7.2856, 10.9825, 14.5712,\n",
       "          18.2466, 21.8568, 25.5229, 29.1424, 32.8033, 36.4281, 40.0857,\n",
       "          43.7137, 47.3690, 50.9993, 54.6529, 58.2849, 61.9373],\n",
       "         [10.9825,  7.2856,  3.8021,  0.0000,  3.8021,  7.2856, 10.9825,\n",
       "          14.5712, 18.2466, 21.8568, 25.5229, 29.1424, 32.8033, 36.4281,\n",
       "          40.0857, 43.7137, 47.3690, 50.9993, 54.6529, 58.2849],\n",
       "         [14.5712, 10.9825,  7.2856,  3.8021,  0.0000,  3.8021,  7.2856,\n",
       "          10.9825, 14.5712, 18.2466, 21.8568, 25.5229, 29.1424, 32.8033,\n",
       "          36.4281, 40.0857, 43.7137, 47.3690, 50.9993, 54.6529],\n",
       "         [18.2465, 14.5712, 10.9825,  7.2856,  3.8021,  0.0000,  3.8021,\n",
       "           7.2856, 10.9825, 14.5712, 18.2465, 21.8568, 25.5229, 29.1424,\n",
       "          32.8033, 36.4281, 40.0857, 43.7137, 47.3690, 50.9993],\n",
       "         [21.8568, 18.2465, 14.5712, 10.9825,  7.2856,  3.8021,  0.0000,\n",
       "           3.8021,  7.2856, 10.9825, 14.5712, 18.2466, 21.8568, 25.5229,\n",
       "          29.1424, 32.8033, 36.4281, 40.0856, 43.7137, 47.3690],\n",
       "         [25.5229, 21.8568, 18.2466, 14.5712, 10.9825,  7.2856,  3.8021,\n",
       "           0.0000,  3.8021,  7.2856, 10.9825, 14.5712, 18.2466, 21.8568,\n",
       "          25.5229, 29.1424, 32.8033, 36.4281, 40.0857, 43.7137],\n",
       "         [29.1424, 25.5229, 21.8568, 18.2465, 14.5712, 10.9825,  7.2856,\n",
       "           3.8021,  0.0000,  3.8021,  7.2856, 10.9825, 14.5712, 18.2466,\n",
       "          21.8568, 25.5229, 29.1424, 32.8033, 36.4281, 40.0857],\n",
       "         [32.8033, 29.1424, 25.5229, 21.8568, 18.2465, 14.5712, 10.9825,\n",
       "           7.2856,  3.8021,  0.0000,  3.8021,  7.2856, 10.9825, 14.5712,\n",
       "          18.2466, 21.8568, 25.5229, 29.1424, 32.8033, 36.4281],\n",
       "         [36.4281, 32.8033, 29.1424, 25.5229, 21.8568, 18.2466, 14.5712,\n",
       "          10.9825,  7.2856,  3.8021,  0.0000,  3.8021,  7.2856, 10.9825,\n",
       "          14.5712, 18.2466, 21.8568, 25.5229, 29.1424, 32.8033],\n",
       "         [40.0857, 36.4281, 32.8033, 29.1424, 25.5229, 21.8568, 18.2466,\n",
       "          14.5712, 10.9825,  7.2856,  3.8021,  0.0000,  3.8021,  7.2856,\n",
       "          10.9825, 14.5712, 18.2465, 21.8568, 25.5229, 29.1424],\n",
       "         [43.7137, 40.0857, 36.4281, 32.8033, 29.1424, 25.5229, 21.8568,\n",
       "          18.2466, 14.5712, 10.9825,  7.2856,  3.8021,  0.0000,  3.8021,\n",
       "           7.2856, 10.9825, 14.5712, 18.2465, 21.8568, 25.5229],\n",
       "         [47.3690, 43.7137, 40.0856, 36.4281, 32.8033, 29.1424, 25.5229,\n",
       "          21.8568, 18.2466, 14.5712, 10.9825,  7.2856,  3.8021,  0.0000,\n",
       "           3.8021,  7.2856, 10.9825, 14.5712, 18.2466, 21.8568],\n",
       "         [50.9993, 47.3690, 43.7137, 40.0857, 36.4281, 32.8033, 29.1424,\n",
       "          25.5229, 21.8568, 18.2466, 14.5712, 10.9825,  7.2856,  3.8021,\n",
       "           0.0000,  3.8021,  7.2856, 10.9825, 14.5712, 18.2466],\n",
       "         [54.6529, 50.9993, 47.3690, 43.7137, 40.0857, 36.4281, 32.8033,\n",
       "          29.1424, 25.5229, 21.8568, 18.2466, 14.5712, 10.9825,  7.2856,\n",
       "           3.8021,  0.0000,  3.8021,  7.2856, 10.9825, 14.5712],\n",
       "         [58.2849, 54.6529, 50.9993, 47.3690, 43.7137, 40.0857, 36.4281,\n",
       "          32.8033, 29.1424, 25.5229, 21.8568, 18.2465, 14.5712, 10.9825,\n",
       "           7.2856,  3.8021,  0.0000,  3.8021,  7.2856, 10.9825],\n",
       "         [61.9373, 58.2849, 54.6529, 50.9993, 47.3690, 43.7137, 40.0857,\n",
       "          36.4281, 32.8033, 29.1424, 25.5229, 21.8568, 18.2465, 14.5712,\n",
       "          10.9825,  7.2856,  3.8021,  0.0000,  3.8021,  7.2856],\n",
       "         [65.5705, 61.9373, 58.2849, 54.6529, 50.9993, 47.3690, 43.7137,\n",
       "          40.0857, 36.4281, 32.8033, 29.1424, 25.5229, 21.8568, 18.2466,\n",
       "          14.5712, 10.9825,  7.2856,  3.8021,  0.0000,  3.8021],\n",
       "         [69.2219, 65.5705, 61.9373, 58.2849, 54.6529, 50.9993, 47.3690,\n",
       "          43.7137, 40.0857, 36.4281, 32.8033, 29.1424, 25.5229, 21.8568,\n",
       "          18.2466, 14.5712, 10.9825,  7.2856,  3.8021,  0.0000]]])"
      ]
     },
     "execution_count": 25,
     "metadata": {},
     "output_type": "execute_result"
    }
   ],
   "source": [
    "torch.norm(tmp,dim=-1)\n"
   ]
  },
  {
   "cell_type": "code",
   "execution_count": null,
   "metadata": {},
   "outputs": [],
   "source": []
  },
  {
   "cell_type": "code",
   "execution_count": null,
   "metadata": {},
   "outputs": [],
   "source": []
  }
 ],
 "metadata": {
  "kernelspec": {
   "display_name": "Python 3",
   "language": "python",
   "name": "python3"
  },
  "language_info": {
   "codemirror_mode": {
    "name": "ipython",
    "version": 3
   },
   "file_extension": ".py",
   "mimetype": "text/x-python",
   "name": "python",
   "nbconvert_exporter": "python",
   "pygments_lexer": "ipython3",
   "version": "3.8.2"
  }
 },
 "nbformat": 4,
 "nbformat_minor": 4
}
