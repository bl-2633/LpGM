{
 "cells": [
  {
   "cell_type": "code",
   "execution_count": 1,
   "metadata": {},
   "outputs": [],
   "source": [
    "import os\n",
    "import sys\n",
    "lib_base = os.path.dirname(os.getcwd())\n",
    "if lib_base not in sys.path:\n",
    "    sys.path = [lib_base] + sys.path"
   ]
  },
  {
   "cell_type": "code",
   "execution_count": 2,
   "metadata": {},
   "outputs": [],
   "source": [
    "import torch\n",
    "from config.evoformer_config import EvoformerConfig\n",
    "from evoformer.evoformer import Evoformer\n",
    "from common.helpers.neighbor_utils import get_neighbor_info"
   ]
  },
  {
   "cell_type": "markdown",
   "metadata": {},
   "source": [
    "# Set Up"
   ]
  },
  {
   "cell_type": "markdown",
   "metadata": {},
   "source": [
    "## Input"
   ]
  },
  {
   "cell_type": "code",
   "execution_count": 12,
   "metadata": {},
   "outputs": [],
   "source": [
    "b = 2 # batch size\n",
    "n = 100 # number of coordinates per batch\n",
    "node_in = 32 # input dimension for node features\n",
    "node_hidden = 64 # hidden dimension of node features\n",
    "node_out = 32 # output dimension of node features\n",
    "edge_in = 32 # edge hidden dimension\n",
    "edge_hidden = 64 # edge hidden dimension\n",
    "edge_out = 64 # edge hidden dimension\n",
    "N = min(n,20) # number of neigbors to consider per-node"
   ]
  },
  {
   "cell_type": "code",
   "execution_count": 13,
   "metadata": {},
   "outputs": [],
   "source": [
    "coords = torch.randn(b,n,3)*10\n",
    "node_feats = torch.randn(b,n,node_in)\n",
    "edge_feats = torch.randn(b,n,n,edge_in)\n",
    "neighbor_info = get_neighbor_info(coords=coords, top_k = N, max_radius = 10, exclude_self=False)"
   ]
  },
  {
   "cell_type": "markdown",
   "metadata": {},
   "source": [
    "## EvoFormer"
   ]
  },
  {
   "cell_type": "code",
   "execution_count": 16,
   "metadata": {},
   "outputs": [],
   "source": [
    "evoformer_config = EvoformerConfig(\n",
    "    node_dim_in = node_in,\n",
    "    edge_dim_in = edge_in,\n",
    "    edge_dim_out = edge_out,\n",
    "    node_dim_out = node_out,\n",
    "    depth = 4,\n",
    "    node_dim_head = 12,\n",
    "    node_attn_heads = 6,\n",
    "    edge_dim_head = 12,\n",
    "    edge_attn_heads = 4,  \n",
    ")\n",
    "\n",
    "evoformer = Evoformer(evoformer_config)"
   ]
  },
  {
   "cell_type": "markdown",
   "metadata": {},
   "source": [
    "## Run the model"
   ]
  },
  {
   "cell_type": "code",
   "execution_count": 17,
   "metadata": {},
   "outputs": [],
   "source": [
    "out = evoformer(\n",
    "    node_feats = node_feats,\n",
    "    edge_feats = edge_feats,\n",
    "    nbr_info = neighbor_info,\n",
    ")"
   ]
  },
  {
   "cell_type": "code",
   "execution_count": 18,
   "metadata": {},
   "outputs": [
    {
     "name": "stdout",
     "output_type": "stream",
     "text": [
      "torch.Size([2, 100, 32]) torch.Size([2, 100, 100, 64])\n"
     ]
    }
   ],
   "source": [
    "print(out[0].shape,out[1].shape)"
   ]
  },
  {
   "cell_type": "code",
   "execution_count": null,
   "metadata": {},
   "outputs": [],
   "source": []
  }
 ],
 "metadata": {
  "kernelspec": {
   "display_name": "Python 3",
   "language": "python",
   "name": "python3"
  },
  "language_info": {
   "codemirror_mode": {
    "name": "ipython",
    "version": 3
   },
   "file_extension": ".py",
   "mimetype": "text/x-python",
   "name": "python",
   "nbconvert_exporter": "python",
   "pygments_lexer": "ipython3",
   "version": "3.8.2"
  }
 },
 "nbformat": 4,
 "nbformat_minor": 4
}
