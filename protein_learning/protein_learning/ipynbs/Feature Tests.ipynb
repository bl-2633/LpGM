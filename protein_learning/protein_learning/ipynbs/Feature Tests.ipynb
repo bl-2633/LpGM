{
 "cells": [
  {
   "cell_type": "code",
   "execution_count": 1,
   "metadata": {},
   "outputs": [],
   "source": [
    "from protein_utils.features.feature_config import InputFeatureConfig\n",
    "from protein_utils.features.input_embedding import InputEmbedding\n",
    "from protein_utils.features.input_features import get_input_features\n",
    "from protein_utils.features.constants import SMALL_SEP_BINS\n",
    "from protein_utils.constants import AA_ALPHABET\n"
   ]
  },
  {
   "cell_type": "code",
   "execution_count": 2,
   "metadata": {},
   "outputs": [],
   "source": [
    "config = InputFeatureConfig(\n",
    "    # Residue Type (SCALAR)\n",
    "    embed_res_ty = False,\n",
    "    res_ty_embed_dim = 32,\n",
    "    one_hot_res_ty = True,\n",
    "\n",
    "    # Residue Relative Position (SCALAR)\n",
    "    embed_res_rel_pos = False,\n",
    "    res_rel_pos_embed_dim = 6,\n",
    "    res_rel_pos_bins = 10,\n",
    "    one_hot_res_rel_pos = True,\n",
    "\n",
    "    # BB Dihedral (SCALAR)\n",
    "    embed_bb_dihedral = True,\n",
    "    bb_dihedral_embed_dim = 6,\n",
    "    fourier_encode_bb_dihedral = True,\n",
    "    n_bb_dihedral_fourier_feats = 2,\n",
    "    one_hot_bb_dihedral = False,\n",
    "    bb_dihedral_bins = 36,\n",
    "\n",
    "    # Centrality (SCALAR)\n",
    "    embed_centrality = False,\n",
    "    centrality_embed_bins = 6,\n",
    "    centrality_embed_dim = 6,\n",
    "    one_hot_centrality = True,\n",
    "\n",
    "    # Relative Separation (PAIR)\n",
    "    embed_rel_sep = False,\n",
    "    rel_sep_embed_dim = 32,\n",
    "    one_hot_rel_sep = False,\n",
    "    rel_sep_embed_bins = len(SMALL_SEP_BINS),\n",
    "\n",
    "    # Relative Distance (PAIR)\n",
    "    embed_rel_dist = False,\n",
    "    rel_dist_embed_dim = 16,\n",
    "    one_hot_rel_dist = True,\n",
    "    rel_dist_atom_tys = [\"CA\", \"CA\", \"N\", \"CA\"],\n",
    "    rel_dist_embed_bins = 32,\n",
    "\n",
    "    # trRosetta Orientation (PAIR)\n",
    "    embed_tr_rosetta_ori = True,\n",
    "    tr_rosetta_ori_embed_dim = 6,\n",
    "    tr_rosetta_ori_embed_bins = 36,\n",
    "    fourier_encode_tr_rosetta_ori = True,\n",
    "    tr_rosetta_fourier_feats = 2,\n",
    "    one_hot_tr_rosetta_ori = False,\n",
    "\n",
    "    # Joint Embedding for Pair and Sep (PAIR)\n",
    "    joint_embed_res_pair_rel_sep = True,\n",
    "    joint_embed_res_pair_rel_sep_embed_dim = 48,\n",
    ")"
   ]
  },
  {
   "cell_type": "code",
   "execution_count": 3,
   "metadata": {},
   "outputs": [],
   "source": [
    "import torch\n",
    "import numpy as np\n",
    "b,n,a = 1, 30, 4\n",
    "coords = torch.randn(n,a,3)\n",
    "atom_ty_map = {a:i for i,a in enumerate([\"N\",\"CA\",\"CB\",\"C\"])}\n",
    "seq = \"\".join(np.random.choice(np.array([x for x in AA_ALPHABET]),n))"
   ]
  },
  {
   "cell_type": "code",
   "execution_count": 4,
   "metadata": {},
   "outputs": [],
   "source": [
    "input_feats = get_input_features(\n",
    "    seq = seq,\n",
    "    coords = coords,\n",
    "    atom_ty_to_coord_idx = atom_ty_map,\n",
    "    config = config\n",
    ")"
   ]
  },
  {
   "cell_type": "code",
   "execution_count": 5,
   "metadata": {},
   "outputs": [
    {
     "name": "stdout",
     "output_type": "stream",
     "text": [
      " ----------- res_ty -----------\n",
      "raw: None\n",
      "encoded: torch.Size([30, 1])\n",
      " ----------- rel_pos -----------\n",
      "raw: torch.Size([30, 1])\n",
      "encoded: torch.Size([30, 1])\n",
      " ----------- bb_dihedral -----------\n",
      "raw: torch.Size([30, 3])\n",
      "encoded: torch.Size([30, 3])\n",
      " ----------- centrality -----------\n",
      "raw: torch.Size([30, 1])\n",
      "encoded: torch.Size([30, 1])\n",
      " ----------- rel_sep -----------\n",
      "raw: torch.Size([30, 30, 1])\n",
      "encoded: torch.Size([30, 30, 1])\n",
      " ----------- tr_ori -----------\n",
      "raw: torch.Size([30, 30, 3])\n",
      "encoded: torch.Size([30, 30, 3])\n",
      " ----------- rel_dist -----------\n",
      "raw: torch.Size([30, 30, 2])\n",
      "encoded: torch.Size([30, 30, 2])\n"
     ]
    }
   ],
   "source": [
    "for feat_name,feat in input_feats.items():\n",
    "    print(f\" ----------- {feat_name} -----------\")\n",
    "    print(f\"raw: {feat.raw_shape}\")\n",
    "    print(f\"encoded: {feat.encoded_shape}\")\n",
    "          "
   ]
  },
  {
   "cell_type": "code",
   "execution_count": 6,
   "metadata": {},
   "outputs": [],
   "source": [
    "input_emb = InputEmbedding(config)"
   ]
  },
  {
   "cell_type": "code",
   "execution_count": 7,
   "metadata": {},
   "outputs": [],
   "source": [
    "scalar_in, pair_in = input_emb(input_feats,(n,))"
   ]
  },
  {
   "cell_type": "code",
   "execution_count": 8,
   "metadata": {},
   "outputs": [
    {
     "name": "stdout",
     "output_type": "stream",
     "text": [
      "torch.Size([30, 67]) torch.Size([30, 30, 142])\n"
     ]
    }
   ],
   "source": [
    "print(scalar_in.shape, pair_in.shape)"
   ]
  },
  {
   "cell_type": "code",
   "execution_count": 9,
   "metadata": {},
   "outputs": [
    {
     "name": "stdout",
     "output_type": "stream",
     "text": [
      "(67, 142)\n"
     ]
    }
   ],
   "source": [
    "print(input_emb.dims)"
   ]
  }
 ],
 "metadata": {
  "kernelspec": {
   "display_name": "Python 3",
   "language": "python",
   "name": "python3"
  },
  "language_info": {
   "codemirror_mode": {
    "name": "ipython",
    "version": 3
   },
   "file_extension": ".py",
   "mimetype": "text/x-python",
   "name": "python",
   "nbconvert_exporter": "python",
   "pygments_lexer": "ipython3",
   "version": "3.8.2"
  }
 },
 "nbformat": 4,
 "nbformat_minor": 4
}
