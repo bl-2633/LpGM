{
 "cells": [
  {
   "cell_type": "code",
   "execution_count": 1,
   "metadata": {},
   "outputs": [],
   "source": [
    "import sys\n",
    "pl_path = \"/mnt/c/Users/mm851/PycharmProjects/ProteinLearning\"\n",
    "if pl_path not in sys.path:\n",
    "    sys.path.append(pl_path)"
   ]
  },
  {
   "cell_type": "code",
   "execution_count": 2,
   "metadata": {},
   "outputs": [
    {
     "data": {
      "text/plain": [
       "tensor(4.6365, grad_fn=<MeanBackward0>)"
      ]
     },
     "execution_count": 2,
     "metadata": {},
     "output_type": "execute_result"
    }
   ],
   "source": [
    "from protein_learning.networks.loss.pair_loss import PairDistLossNet\n",
    "import torch\n",
    "atom_tys = [\"CA\",\"CA\",\"N\",\"CB\"]\n",
    "b,n,d = 2,10,4\n",
    "loss_net = PairDistLossNet(dim_in = d, atom_tys = atom_tys)\n",
    "atom_ty_map = {\"N\":0,\"CA\":1,\"CB\":3}\n",
    "coords = torch.randn(b,n,4,3)\n",
    "coord_mask = torch.randint(2,(b,n,4))==1\n",
    "pair_out = torch.randn(b,n,n,d)\n",
    "loss = loss_net(pair_output=pair_out, atom_ty_map=atom_ty_map, atom_coords = coords)#, atom_masks = coord_mask)\n",
    "loss"
   ]
  },
  {
   "cell_type": "code",
   "execution_count": 5,
   "metadata": {},
   "outputs": [
    {
     "name": "stdout",
     "output_type": "stream",
     "text": [
      "21\n"
     ]
    }
   ],
   "source": [
    "x = torch.linspace(0,1,21)\n",
    "print(x.numel())"
   ]
  },
  {
   "cell_type": "code",
   "execution_count": 6,
   "metadata": {},
   "outputs": [
    {
     "data": {
      "text/plain": [
       "tensor([0.0000, 0.0500, 0.1000, 0.1500, 0.2000, 0.2500, 0.3000, 0.3500, 0.4000,\n",
       "        0.4500, 0.5000, 0.5500, 0.6000, 0.6500, 0.7000, 0.7500, 0.8000, 0.8500,\n",
       "        0.9000, 0.9500, 1.0000])"
      ]
     },
     "execution_count": 6,
     "metadata": {},
     "output_type": "execute_result"
    }
   ],
   "source": [
    "x"
   ]
  },
  {
   "cell_type": "code",
   "execution_count": 7,
   "metadata": {},
   "outputs": [],
   "source": [
    "from protein_learning.networks.common.helpers.neighbor_utils import NeighborInfo, get_neighbor_info\n"
   ]
  },
  {
   "cell_type": "code",
   "execution_count": 9,
   "metadata": {},
   "outputs": [],
   "source": [
    "info = get_neighbor_info(torch.randn(1,20,3), max_radius=10, top_k=5)"
   ]
  },
  {
   "cell_type": "code",
   "execution_count": 10,
   "metadata": {},
   "outputs": [
    {
     "name": "stdout",
     "output_type": "stream",
     "text": [
      "indices torch.Size([1, 20, 5])\n",
      "mask torch.Size([1, 20, 5])\n",
      "rel_dists torch.Size([1, 20, 5])\n",
      "rel_pos torch.Size([1, 20, 5, 3])\n",
      "coords torch.Size([1, 20, 3])\n",
      "full_mask torch.Size([1, 20, 19])\n"
     ]
    }
   ],
   "source": [
    "for attr in info._attrs:\n",
    "    if torch.is_tensor(getattr(info,attr)):\n",
    "        x = getattr(info,attr)\n",
    "        print(attr,x.shape)"
   ]
  },
  {
   "cell_type": "code",
   "execution_count": null,
   "metadata": {},
   "outputs": [],
   "source": []
  }
 ],
 "metadata": {
  "kernelspec": {
   "display_name": "Python 3",
   "language": "python",
   "name": "python3"
  },
  "language_info": {
   "codemirror_mode": {
    "name": "ipython",
    "version": 3
   },
   "file_extension": ".py",
   "mimetype": "text/x-python",
   "name": "python",
   "nbconvert_exporter": "python",
   "pygments_lexer": "ipython3",
   "version": "3.8.2"
  }
 },
 "nbformat": 4,
 "nbformat_minor": 4
}
