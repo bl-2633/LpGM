{
 "cells": [
  {
   "cell_type": "code",
   "execution_count": 2,
   "metadata": {},
   "outputs": [],
   "source": [
    "import sys\n",
    "pl_path = \"/mnt/c/Users/mm851/PycharmProjects/ProteinLearning\"\n",
    "if pl_path not in sys.path:\n",
    "    sys.path.append(pl_path)"
   ]
  },
  {
   "cell_type": "code",
   "execution_count": 4,
   "metadata": {},
   "outputs": [],
   "source": [
    "from protein_learning.networks.loss.residue_loss import PredLDDTLossNet, SequenceRecoveryLossNet\n",
    "import torch\n",
    "b,n,d = 2,10,16\n",
    "coords = torch.randn(b,n,4,3)\n",
    "coord_mask = torch.randint(2,(b,n,4))==1"
   ]
  },
  {
   "cell_type": "code",
   "execution_count": 7,
   "metadata": {},
   "outputs": [
    {
     "name": "stdout",
     "output_type": "stream",
     "text": [
      "tensor(4.1457, grad_fn=<MeanBackward0>)\n",
      "tensor([[1., 1., 1., 1., 1., 1., 1., 1., 1., 1.],\n",
      "        [1., 1., 1., 1., 1., 1., 1., 1., 1., 1.]])\n"
     ]
    }
   ],
   "source": [
    "res_feats = torch.randn(b,n,d)\n",
    "ca_coords, ca_mask = coords[:,:,1], coord_mask[:,:,1]\n",
    "lddt_loss_net = PredLDDTLossNet(d)\n",
    "loss = lddt_loss_net(res_feats, ca_coords, ca_coords)\n",
    "print(loss)\n",
    "print(lddt_loss_net.get_true_plddt(ca_coords,ca_coords))\n"
   ]
  },
  {
   "cell_type": "code",
   "execution_count": 9,
   "metadata": {},
   "outputs": [
    {
     "name": "stdout",
     "output_type": "stream",
     "text": [
      "tensor(3.0853, grad_fn=<MeanBackward0>)\n"
     ]
    }
   ],
   "source": [
    "res_feats = torch.randn(b,n,d)\n",
    "nsr_loss_net = SequenceRecoveryLossNet(d)\n",
    "true_labels = torch.randint(21,(b,n))\n",
    "loss = nsr_loss_net(res_feats, true_labels, ca_mask)\n",
    "print(loss)\n"
   ]
  },
  {
   "cell_type": "code",
   "execution_count": null,
   "metadata": {},
   "outputs": [],
   "source": []
  }
 ],
 "metadata": {
  "kernelspec": {
   "display_name": "Python 3",
   "language": "python",
   "name": "python3"
  },
  "language_info": {
   "codemirror_mode": {
    "name": "ipython",
    "version": 3
   },
   "file_extension": ".py",
   "mimetype": "text/x-python",
   "name": "python",
   "nbconvert_exporter": "python",
   "pygments_lexer": "ipython3",
   "version": "3.8.2"
  }
 },
 "nbformat": 4,
 "nbformat_minor": 4
}
