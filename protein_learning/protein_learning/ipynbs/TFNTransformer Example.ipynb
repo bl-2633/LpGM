{
 "cells": [
  {
   "cell_type": "code",
   "execution_count": 1,
   "metadata": {},
   "outputs": [],
   "source": [
    "import os\n",
    "import sys\n",
    "lib_base = os.path.dirname(os.getcwd())\n",
    "if lib_base not in sys.path:\n",
    "    sys.path = [lib_base] + sys.path"
   ]
  },
  {
   "cell_type": "code",
   "execution_count": 2,
   "metadata": {},
   "outputs": [],
   "source": [
    "import torch\n",
    "from config.se3_transformer_config import SE3TransformerConfig\n",
    "from se3_transformer.tfn_transformer import TFNTransformer\n",
    "from common.helpers.neighbor_utils import get_neighbor_info"
   ]
  },
  {
   "cell_type": "markdown",
   "metadata": {},
   "source": [
    "# Set Up"
   ]
  },
  {
   "cell_type": "markdown",
   "metadata": {},
   "source": [
    "## Input"
   ]
  },
  {
   "cell_type": "code",
   "execution_count": 3,
   "metadata": {},
   "outputs": [],
   "source": [
    "b = 2 # batch size\n",
    "n = 100 # number of coordinates per batch\n",
    "d_in = (32, 4) # input dimension for scalar and point features\n",
    "d_hidden = (64, 8) # hidden dimension of scaar and point features\n",
    "d_out = (32, 8) # output dimension of scalar and point features\n",
    "d_edge = 32 # edge hidden dimension\n",
    "N = 12 # number of neigbors to consider per-point"
   ]
  },
  {
   "cell_type": "code",
   "execution_count": 4,
   "metadata": {},
   "outputs": [],
   "source": [
    "coords = torch.randn(b,n,3)*10\n",
    "scalar_feats = torch.randn(b,n,d_in[0])\n",
    "coord_feats = torch.randn(b,n,d_in[1],3)\n",
    "edge_feats = torch.randn(b,n,n,d_edge)\n",
    "neighbor_info = get_neighbor_info(coords=coords, top_k = N, max_radius = 10)"
   ]
  },
  {
   "cell_type": "markdown",
   "metadata": {},
   "source": [
    "## SE(3) - Equivariant Transformer"
   ]
  },
  {
   "cell_type": "code",
   "execution_count": 5,
   "metadata": {},
   "outputs": [],
   "source": [
    "se3_config = SE3TransformerConfig(\n",
    "    fiber_in = d_in,\n",
    "    fiber_hidden = d_hidden,\n",
    "    fiber_out = d_out,\n",
    "    heads = (4,4),\n",
    "    dim_heads = (12, 4),\n",
    "    edge_dim = d_edge,\n",
    "    depth = 2,\n",
    ")\n",
    "\n",
    "transformer = TFNTransformer(se3_config)"
   ]
  },
  {
   "cell_type": "markdown",
   "metadata": {},
   "source": [
    "## Run the model"
   ]
  },
  {
   "cell_type": "code",
   "execution_count": 6,
   "metadata": {},
   "outputs": [],
   "source": [
    "out = transformer(\n",
    "    feats = {\"0\":scalar_feats, \"1\": coord_feats},\n",
    "    edges = edge_feats,\n",
    "    neighbor_info = neighbor_info,\n",
    ")"
   ]
  },
  {
   "cell_type": "markdown",
   "metadata": {},
   "source": [
    "## View Config"
   ]
  },
  {
   "cell_type": "code",
   "execution_count": 7,
   "metadata": {},
   "outputs": [
    {
     "name": "stdout",
     "output_type": "stream",
     "text": [
      "fiber_in : [(0, 32), (1, 4)]\n",
      "fiber_hidden : [(0, 64), (1, 8)]\n",
      "fiber_out : [(0, 32), (1, 8)]\n",
      "global_feats_dim : None\n",
      "max_degrees : 2\n",
      "edge_dim : 32\n",
      "depth : 2\n",
      "conv_in_layers : 1\n",
      "conv_out_layers : 1\n",
      "project_out : True\n",
      "norm_out : True\n",
      "normalize_radial_dists : True\n",
      "append_norm : True\n",
      "pair_bias : True\n",
      "dropout : 0.0\n",
      "differentiable_coords : False\n",
      "append_rel_dist : False\n",
      "append_edge_attn : True\n",
      "use_re_zero : True\n",
      "radial_dropout : 0.0\n",
      "radial_compress : False\n",
      "radial_mult : 2\n",
      "checkpoint_tfn : False\n",
      "heads : [(0, 4), (1, 4)]\n",
      "dim_head : [(0, 12), (1, 4)]\n",
      "attend_self : True\n",
      "use_null_kv : True\n",
      "linear_proj_keys : False\n",
      "fourier_encode_rel_dist : False\n",
      "fourier_rel_dist_feats : 4\n",
      "share_keys_and_values : False\n",
      "hidden_mult : 2\n",
      "share_attn_weights : True\n",
      "use_dist_sim : False\n",
      "learn_head_weights : True\n",
      "use_coord_attn : True\n",
      "use_dist_conv : False\n",
      "pairwise_dist_conv : False\n",
      "num_dist_conv_filters : 16\n",
      "attn_ty : tfn\n",
      "nonlin : RecursiveScriptModule(original_name=FusedGELU)\n"
     ]
    }
   ],
   "source": [
    "for k,v in vars(se3_config).items():\n",
    "    print(k,\":\",v)\n",
    "    "
   ]
  },
  {
   "cell_type": "code",
   "execution_count": 8,
   "metadata": {},
   "outputs": [
    {
     "name": "stdout",
     "output_type": "stream",
     "text": [
      "heads : [(0, 4), (1, 4)]\n",
      "dim_heads : [(0, 12), (1, 4)]\n",
      "edge_dim : 32\n",
      "global_feats_dim : None\n",
      "attend_self : True\n",
      "use_null_kv : True\n",
      "share_attn_weights : True\n",
      "use_dist_sim : False\n",
      "learn_head_weights : True\n",
      "use_coord_attn : True\n",
      "append_edge_attn : True\n",
      "use_dist_conv : False\n",
      "pairwise_dist_conv : False\n",
      "num_dist_conv_filters : 16\n",
      "pair_bias : True\n",
      "append_norm : True\n",
      "append_hidden_dist : True\n"
     ]
    }
   ],
   "source": [
    "for k,v in se3_config.attn_config()._asdict().items():\n",
    "    print(k,\":\",v)"
   ]
  },
  {
   "cell_type": "code",
   "execution_count": null,
   "metadata": {},
   "outputs": [],
   "source": []
  }
 ],
 "metadata": {
  "kernelspec": {
   "display_name": "Python 3",
   "language": "python",
   "name": "python3"
  },
  "language_info": {
   "codemirror_mode": {
    "name": "ipython",
    "version": 3
   },
   "file_extension": ".py",
   "mimetype": "text/x-python",
   "name": "python",
   "nbconvert_exporter": "python",
   "pygments_lexer": "ipython3",
   "version": "3.8.2"
  }
 },
 "nbformat": 4,
 "nbformat_minor": 4
}
