{
 "cells": [
  {
   "cell_type": "code",
   "execution_count": 1,
   "metadata": {},
   "outputs": [],
   "source": [
    "import os\n",
    "import sys\n",
    "lib_base = os.path.dirname(os.getcwd())\n",
    "if lib_base not in sys.path:\n",
    "    sys.path = [lib_base] + sys.path"
   ]
  },
  {
   "cell_type": "code",
   "execution_count": 2,
   "metadata": {},
   "outputs": [],
   "source": [
    "import torch\n",
    "from config.se3_transformer_config import SE3TransformerConfig\n",
    "from se3_transformer.tfn_transformer import TFNTransformer\n",
    "from common.helpers.neighbor_utils import get_neighbor_info"
   ]
  },
  {
   "cell_type": "markdown",
   "metadata": {},
   "source": [
    "# Set Up"
   ]
  },
  {
   "cell_type": "markdown",
   "metadata": {},
   "source": [
    "## Input"
   ]
  },
  {
   "cell_type": "code",
   "execution_count": 11,
   "metadata": {},
   "outputs": [],
   "source": [
    "b = 2 # batch size\n",
    "n = 100 # number of coordinates per batch\n",
    "d_in = (32, 4) # input dimension for scalar and point features\n",
    "d_hidden = (64, 8) # hidden dimension of scaar and point features\n",
    "d_out = (32, 8) # output dimension of scalar and point features\n",
    "d_edge = 32 # edge hidden dimension\n",
    "N = 12 # number of neigbors to consider per-point\n",
    "\n",
    "def get_model_input(batch_size):\n",
    "    coords = torch.randn(batch_size,n,3)*10\n",
    "    scalar_feats = torch.randn(batch_size,n,d_in[0])\n",
    "    coord_feats = torch.randn(batch_size,n,d_in[1],3)\n",
    "    edge_feats = torch.randn(batch_size,n,n,d_edge)\n",
    "    neighbor_info = get_neighbor_info(coords=coords, top_k = N, max_radius = 10)\n",
    "    return dict(\n",
    "        feats = {\"0\":scalar_feats, \"1\": coord_feats},\n",
    "        edges = edge_feats,\n",
    "        neighbor_info = neighbor_info\n",
    "    )\n",
    "    "
   ]
  },
  {
   "cell_type": "markdown",
   "metadata": {},
   "source": [
    "## SE(3) - Equivariant Transformer"
   ]
  },
  {
   "cell_type": "code",
   "execution_count": 12,
   "metadata": {},
   "outputs": [],
   "source": [
    "se3_config = SE3TransformerConfig(\n",
    "    fiber_in = d_in,\n",
    "    fiber_hidden = d_hidden,\n",
    "    fiber_out = d_out,\n",
    "    heads = (4,4),\n",
    "    dim_heads = (12, 4),\n",
    "    edge_dim = d_edge,\n",
    "    depth = 2,\n",
    ")\n",
    "\n",
    "transformer = TFNTransformer(se3_config)"
   ]
  },
  {
   "cell_type": "markdown",
   "metadata": {},
   "source": [
    "## Run the model"
   ]
  },
  {
   "cell_type": "code",
   "execution_count": 13,
   "metadata": {},
   "outputs": [],
   "source": [
    "out = transformer(**get_model_input(batch_size=4))"
   ]
  },
  {
   "cell_type": "markdown",
   "metadata": {},
   "source": [
    "# Test Batching"
   ]
  },
  {
   "cell_type": "code",
   "execution_count": 14,
   "metadata": {},
   "outputs": [],
   "source": [
    "def get_batch(batched_feats, batch_idx):\n",
    "    scalar_feats = batched_feats[\"feats\"]['0'][batch_idx].unsqueeze(0)\n",
    "    coord_feats = batched_feats[\"feats\"]['1'][batch_idx].unsqueeze(0)\n",
    "    edge_feats = batched_feats[\"edges\"][batch_idx].unsqueeze(0)\n",
    "    neighbor_info = batched_feats[\"neighbor_info\"][batch_idx]\n",
    "    return dict(\n",
    "        feats = {\"0\":scalar_feats, \"1\": coord_feats},\n",
    "        edges = edge_feats,\n",
    "        neighbor_info = neighbor_info\n",
    "    )"
   ]
  },
  {
   "cell_type": "code",
   "execution_count": 15,
   "metadata": {},
   "outputs": [
    {
     "name": "stdout",
     "output_type": "stream",
     "text": [
      "batch : 0, feature_ty : 0, norm : tensor(7.8868e-06, grad_fn=<CopyBackwards>)\n",
      "batch : 0, feature_ty : 1, norm : tensor(1.5134e-06, grad_fn=<CopyBackwards>)\n",
      "batch : 1, feature_ty : 0, norm : tensor(7.5952e-06, grad_fn=<CopyBackwards>)\n",
      "batch : 1, feature_ty : 1, norm : tensor(1.5490e-06, grad_fn=<CopyBackwards>)\n",
      "batch : 2, feature_ty : 0, norm : tensor(7.7446e-06, grad_fn=<CopyBackwards>)\n",
      "batch : 2, feature_ty : 1, norm : tensor(1.7034e-06, grad_fn=<CopyBackwards>)\n"
     ]
    }
   ],
   "source": [
    "batch_size = 3\n",
    "batched_input = get_model_input(batch_size)\n",
    "batched_out = transformer(**batched_input)\n",
    "expected_out = [transformer(**get_batch(batched_input,i)) for i in range(batch_size)]\n",
    "# compare\n",
    "for i in range(batch_size):\n",
    "    actual_i = {k:v[i].unsqueeze(0) for k,v in batched_out.items()}\n",
    "    expected_i = expected_out[i]\n",
    "    for key in expected_i:\n",
    "        actual, expected = actual_i[key],expected_i[key]\n",
    "        assert actual.shape == expected.shape\n",
    "        print(f\"batch : {i}, feature_ty : {key}, norm :\",torch.norm(actual-expected))"
   ]
  },
  {
   "cell_type": "markdown",
   "metadata": {},
   "source": [
    "## View Config"
   ]
  },
  {
   "cell_type": "code",
   "execution_count": null,
   "metadata": {},
   "outputs": [],
   "source": [
    "for k,v in vars(se3_config).items():\n",
    "    print(k,\":\",v)\n",
    "    "
   ]
  },
  {
   "cell_type": "code",
   "execution_count": null,
   "metadata": {},
   "outputs": [],
   "source": [
    "for k,v in se3_config.attn_config()._asdict().items():\n",
    "    print(k,\":\",v)"
   ]
  },
  {
   "cell_type": "code",
   "execution_count": null,
   "metadata": {},
   "outputs": [],
   "source": []
  }
 ],
 "metadata": {
  "kernelspec": {
   "display_name": "Python 3",
   "language": "python",
   "name": "python3"
  },
  "language_info": {
   "codemirror_mode": {
    "name": "ipython",
    "version": 3
   },
   "file_extension": ".py",
   "mimetype": "text/x-python",
   "name": "python",
   "nbconvert_exporter": "python",
   "pygments_lexer": "ipython3",
   "version": "3.8.2"
  }
 },
 "nbformat": 4,
 "nbformat_minor": 4
}
