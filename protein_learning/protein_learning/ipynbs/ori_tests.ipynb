{
 "cells": [
  {
   "cell_type": "code",
   "execution_count": 32,
   "metadata": {},
   "outputs": [],
   "source": [
    "import torch\n",
    "from torch import Tensor\n",
    "from typing import Tuple, Union, List\n",
    "\n",
    "cos_max, cos_min = (1 - 1e-9), -(1 - 1e-9)"
   ]
  },
  {
   "cell_type": "code",
   "execution_count": 89,
   "metadata": {},
   "outputs": [],
   "source": [
    "def signed_dihedral_all_12(ps, *masks):\n",
    "    \"\"\"\n",
    "    Computes signed dihedral of points taking \n",
    "    :param ps: \n",
    "    :param masks: \n",
    "    :return: \n",
    "    \"\"\"\n",
    "    na = None\n",
    "    if not masks:\n",
    "        p0, p1, p2, p3 = ps[0], ps[1], ps[2], ps[3]\n",
    "    else:\n",
    "        p0, p1, p2, p3 = ps[masks[0]], ps[masks[1]], ps[masks[2]], ps[masks[3]]\n",
    "    b0, b1, b2 = p0 - p1, p2[na, :, :] - p1[:, na, :], p3 - p2\n",
    "    nrm = torch.norm(b1, dim=2)\n",
    "    nrm[nrm < 1e-7] = 1\n",
    "    b1 /= nrm[:, :, na]\n",
    "    print(b0[:, na, :].shape, b1.shape)\n",
    "    tmp = torch.sum(b0[:, na, :] * b1, dim=2)[:, :, na]\n",
    "    print(\"b1 shape\",b1.shape)\n",
    "    print('tmp',tmp.shape)\n",
    "    v = b0[:, na, :] - torch.sum(b0[:, na, :] * b1, dim=2)[:, :, na] * b1\n",
    "    w = b2[na, :, :] - torch.sum(b2[na, :, :] * b1, dim=2)[:, :, na] * b1\n",
    "    x = torch.sum(v * w, dim=2)\n",
    "    y = torch.sum(torch.cross(b1, v) * w, dim=2)\n",
    "    return torch.atan2(y, x)"
   ]
  },
  {
   "cell_type": "code",
   "execution_count": 183,
   "metadata": {},
   "outputs": [],
   "source": [
    "def signed_dihedral_all_12_batched(ps):\n",
    "    \"\"\"\n",
    "    Computes signed dihedral of points taking \n",
    "    :param ps: \n",
    "    :param masks: \n",
    "    :return: \n",
    "    \"\"\"\n",
    "    p0, p1, p2, p3 = ps\n",
    "    b0, b1, b2 = p0 - p1, p2.unsqueeze(-3) - p1.unsqueeze(-2), p3 - p2\n",
    "    b1 = b1 / torch.norm(b1, dim=-1, keepdim=True).clamp_min(min_norm_clamp)\n",
    "    v = b0.unsqueeze(-2) - torch.sum(b0.unsqueeze(-2) * b1, dim=-1, keepdim=True) * b1\n",
    "    w = b2.unsqueeze(-3) - torch.sum(b2.unsqueeze(-3) * b1, dim=-1, keepdim=True) * b1\n",
    "    x = torch.sum(v * w, dim=-1)\n",
    "    y = torch.sum(torch.cross(b1, v) * w, dim=-1)\n",
    "    return torch.atan2(y, x)"
   ]
  },
  {
   "cell_type": "code",
   "execution_count": 184,
   "metadata": {},
   "outputs": [],
   "source": [
    "def signed_dihedral_all_123(ps, *masks):\n",
    "    na = None\n",
    "    if not masks:\n",
    "        p0, p1, p2, p3 = ps[0], ps[1], ps[2], ps[3]\n",
    "    else:\n",
    "        p0, p1, p2, p3 = ps[masks[0]], ps[masks[1]], ps[masks[2]], ps[masks[3]]\n",
    "    b0, b1, b2 = p0 - p1, p2 - p1, p3[na, :, :] - p2[:, na, :]\n",
    "    nrm = torch.norm(b1, dim=1)\n",
    "    b1[nrm > 0] /= nrm[nrm > 0][:, na]\n",
    "    v = b0 - torch.sum(b0 * b1, dim=1)[:, na] * b1\n",
    "    w = b2 - torch.sum(b2 * b1[:, na, :], dim=2)[:, :, na] * b1[:, na, :]\n",
    "    x = torch.sum(v[:, na, :] * w, axis=2)\n",
    "    print(torch.cross(b1, v).shape, torch.cross(b1, v)[:, na].shape)\n",
    "    y = torch.sum(torch.cross(b1, v)[:, na] * w, dim=2)\n",
    "    print(y.shape)\n",
    "    ret = torch.atan2(y, x)\n",
    "    return ret"
   ]
  },
  {
   "cell_type": "code",
   "execution_count": 185,
   "metadata": {},
   "outputs": [],
   "source": [
    "min_norm_clamp = 1e-7\n",
    "def signed_dihedral_all_123_batched(ps):\n",
    "    na = None\n",
    "    p0, p1, p2, p3 = ps\n",
    "    b0, b1, b2 = p0 - p1, p2 - p1, p3.unsqueeze(-3) - p2.unsqueeze(-2)\n",
    "    b1 = b1 / torch.norm(b1, dim=-1, keepdim=True).clamp_min(min_norm_clamp)\n",
    "    v = b0 - torch.sum(b0 * b1, dim=-1, keepdim=True) * b1\n",
    "    w = b2 - torch.sum(b2 * b1.unsqueeze(-2), dim=-1, keepdim=True) * b1.unsqueeze(-2)\n",
    "    x = torch.sum(v.unsqueeze(-2) * w, dim=-1)\n",
    "    y = torch.sum(torch.cross(b1, v).unsqueeze(-2) * w, dim=-1)\n",
    "    ret = torch.atan2(y, x)\n",
    "    return ret"
   ]
  },
  {
   "cell_type": "code",
   "execution_count": 197,
   "metadata": {},
   "outputs": [],
   "source": [
    "def unsigned_angle_all(ps, *masks):\n",
    "    \"\"\"\n",
    "    returns a matrix M where\n",
    "    v01, v12 = ps[0,i]-ps[1,i], ps[1,i]-ps[2,j]\n",
    "    M[i,j] = arccos (dot(v01,v12) / (||(ps[0,i]-ps[1,i])||*||(ps[2,j]-ps[1,i])||))\n",
    "    i.e. angle btwn the lines formed by ps[0,i],ps[1,i] and ps[1,i],ps[2,j].\n",
    "    \"\"\"\n",
    "    if not masks:\n",
    "        p0, p1, p2 = ps[0], ps[1], ps[2]\n",
    "    else:\n",
    "        p0, p1, p2 = ps[masks[0]], ps[masks[1]], ps[masks[2]]\n",
    "    b01, b12 = p0 - p1, p2[None, :, :] - p1[:, None, :]\n",
    "    M = b01[:, None, :] * b12\n",
    "    n01, n12 = torch.norm(b01, dim=1), torch.norm(b12, dim=2)\n",
    "    prods = n01[:, None] * n12\n",
    "    m = prods == 0\n",
    "    prods[m] = 1\n",
    "    cos_theta = torch.sum(M, dim=2) / prods\n",
    "    cos_theta[cos_theta < cos_min] = cos_min\n",
    "    cos_theta[cos_theta > cos_max] = cos_max\n",
    "    return torch.acos(cos_theta)"
   ]
  },
  {
   "cell_type": "code",
   "execution_count": 198,
   "metadata": {},
   "outputs": [],
   "source": [
    "def unsigned_angle_all_batched(ps, *masks):\n",
    "    \"\"\"\n",
    "    returns a matrix M where\n",
    "    v01, v12 = ps[0,i]-ps[1,i], ps[1,i]-ps[2,j]\n",
    "    M[i,j] = arccos (dot(v01,v12) / (||(ps[0,i]-ps[1,i])||*||(ps[2,j]-ps[1,i])||))\n",
    "    i.e. angle btwn the lines formed by ps[0,i],ps[1,i] and ps[1,i],ps[2,j].\n",
    "    \"\"\"\n",
    "    \n",
    "    p0, p1, p2 = ps[0], ps[1], ps[2]\n",
    "    b01, b12 = p0 - p1, p2.unsqueeze(-3) - p1.unsqueeze(-2)\n",
    "    M = b01.unsqueeze(-2) * b12\n",
    "    n01, n12 = torch.norm(b01, dim=-1, keepdim=True), torch.norm(b12, dim=-1)\n",
    "    prods = torch.clamp_min(n01 * n12, min_norm_clamp)\n",
    "    cos_theta = torch.sum(M, dim=-1) / prods\n",
    "    cos_theta[cos_theta < cos_min] = cos_min\n",
    "    cos_theta[cos_theta > cos_max] = cos_max\n",
    "    return torch.acos(cos_theta)"
   ]
  },
  {
   "cell_type": "code",
   "execution_count": 199,
   "metadata": {},
   "outputs": [],
   "source": [
    "import torch\n",
    "b,n = 2,20\n",
    "ps = [torch.randn(b,n,3) for _ in range(4)]\n",
    "unbatched_fn = signed_dihedral_all_123\n",
    "batched_fn = signed_dihedral_all_123_batched\n",
    "unbatched_fn = signed_dihedral_all_12\n",
    "batched_fn = signed_dihedral_all_12_batched\n",
    "unbatched_fn = unsigned_angle_all\n",
    "batched_fn = unsigned_angle_all_batched"
   ]
  },
  {
   "cell_type": "code",
   "execution_count": 200,
   "metadata": {},
   "outputs": [
    {
     "name": "stdout",
     "output_type": "stream",
     "text": [
      "batched : torch.Size([2, 20, 20]), unbatched: torch.Size([2, 20, 20])\n",
      "tensor(0.)\n",
      "tensor(0.)\n",
      "tensor(0.)\n"
     ]
    }
   ],
   "source": [
    "batched_out = batched_fn(ps)\n",
    "unbatched_out = [unbatched_fn([p[batch] for p in ps]) for batch in range(b)]\n",
    "unbatched_out = torch.cat([x.unsqueeze(0) for x in unbatched_out], dim=0)\n",
    "unbatched_batched_out = [batched_fn([p[batch] for p in ps]) for batch in range(b)]\n",
    "unbatched_batched_out = torch.cat([x.unsqueeze(0) for x in unbatched_batched_out], dim=0)\n",
    "\n",
    "print(f\"batched : {batched_out.shape}, unbatched: {unbatched_out.shape}\")\n",
    "print(torch.norm(batched_out[0]-unbatched_out[0]))\n",
    "print(torch.norm(batched_out-unbatched_out))\n",
    "print(torch.norm(unbatched_batched_out-unbatched_out))"
   ]
  },
  {
   "cell_type": "code",
   "execution_count": 194,
   "metadata": {},
   "outputs": [
    {
     "data": {
      "text/plain": [
       "tensor(56.3383)"
      ]
     },
     "execution_count": 194,
     "metadata": {},
     "output_type": "execute_result"
    }
   ],
   "source": [
    "p0,p1,p2,p3 = ps\n",
    "o1 = signed_dihedral_all_12_batched(ps)\n",
    "o2 = signed_dihedral_all_123_batched([p0, p3, p2, p1])\n",
    "torch.norm(o1-o2)"
   ]
  },
  {
   "cell_type": "code",
   "execution_count": null,
   "metadata": {},
   "outputs": [],
   "source": []
  },
  {
   "cell_type": "code",
   "execution_count": null,
   "metadata": {},
   "outputs": [],
   "source": []
  },
  {
   "cell_type": "code",
   "execution_count": null,
   "metadata": {},
   "outputs": [],
   "source": []
  },
  {
   "cell_type": "code",
   "execution_count": null,
   "metadata": {},
   "outputs": [],
   "source": []
  }
 ],
 "metadata": {
  "kernelspec": {
   "display_name": "Python 3",
   "language": "python",
   "name": "python3"
  },
  "language_info": {
   "codemirror_mode": {
    "name": "ipython",
    "version": 3
   },
   "file_extension": ".py",
   "mimetype": "text/x-python",
   "name": "python",
   "nbconvert_exporter": "python",
   "pygments_lexer": "ipython3",
   "version": "3.8.2"
  }
 },
 "nbformat": 4,
 "nbformat_minor": 4
}
