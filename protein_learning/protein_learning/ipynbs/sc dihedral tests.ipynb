{
 "cells": [
  {
   "cell_type": "code",
   "execution_count": 1,
   "metadata": {},
   "outputs": [],
   "source": [
    "import sys\n",
    "pl_path = \"/mnt/c/Users/mm851/PycharmProjects/ProteinLearning\"\n",
    "if pl_path not in sys.path:\n",
    "    sys.path.append(pl_path)"
   ]
  },
  {
   "cell_type": "code",
   "execution_count": 2,
   "metadata": {},
   "outputs": [
    {
     "name": "stderr",
     "output_type": "stream",
     "text": [
      "/home/mmcpartlon/.local/lib/python3.8/site-packages/Bio/SubsMat/__init__.py:126: BiopythonDeprecationWarning: Bio.SubsMat has been deprecated, and we intend to remove it in a future release of Biopython. As an alternative, please consider using Bio.Align.substitution_matrices as a replacement, and contact the Biopython developers if you still need the Bio.SubsMat module.\n",
      "  warnings.warn(\n"
     ]
    }
   ],
   "source": [
    "from protein_learning.common.data.datasets.protein_dataset import ProteinDataset\n",
    "from protein_learning.common.protein_constants import ALL_ATOMS\n",
    "from protein_learning.models.sc_packing.sc_feature_generator import SCFeatureGenerator\n",
    "from protein_learning.common.data.protein import Protein\n",
    "from protein_learning.protein_utils.sidechain_utils import (\n",
    "    align_symmetric_sidechains,\n",
    "    per_residue_chi_indices_n_mask,\n",
    "\n",
    ")\n",
    "from protein_learning.common.data.model_data import ExtraInput\n",
    "from protein_learning.common.helpers import batched_index_select, exists\n",
    "from protein_learning.protein_utils.dihedral.angle_utils import signed_dihedral_4\n",
    "from einops import repeat, rearrange # noqa\n",
    "from typing import Any, NamedTuple, Optional\n",
    "from torch import Tensor\n",
    "import torch"
   ]
  },
  {
   "cell_type": "code",
   "execution_count": 3,
   "metadata": {},
   "outputs": [],
   "source": [
    "class ExtraSCInput(ExtraInput):\n",
    "    def __init__(\n",
    "            self,\n",
    "            alt_truth_atom_coords: Tensor,\n",
    "            chi_indices: Optional[Tensor],\n",
    "            chi_mask: Optional[Tensor],\n",
    "    ):\n",
    "        self.alt_truth_atom_coords = alt_truth_atom_coords\n",
    "        self.chi_mask = chi_mask\n",
    "        self.chi_indices = chi_indices\n",
    "\n",
    "    def get_sc_dihedral(self, coords: Tensor) -> Tensor:\n",
    "        m = self.chi_mask.shape[0]\n",
    "        assert m <= 4, f\"{self.chi_mask.shape}\"\n",
    "        rep_coords = repeat(coords, \"b n a c -> (m b) n a c\", m=m)\n",
    "        assert rep_coords.shape[:2] == self.chi_indices.shape[:2]\n",
    "        assert self.chi_indices.shape[2] == 4\n",
    "        select_coords = batched_index_select(rep_coords, self.chi_indices, dim=2)\n",
    "        assert select_coords.shape[:3] == self.chi_indices.shape\n",
    "\n",
    "\n",
    "    def crop(self, start: int, end: int):\n",
    "        self.alt_truth_atom_coords = self.alt_truth_atom_coords\n",
    "\n",
    "    def to(self, device: Any):\n",
    "        self.alt_truth_atom_coords = self.alt_truth_atom_coords.to(device)\n"
   ]
  },
  {
   "cell_type": "code",
   "execution_count": 4,
   "metadata": {},
   "outputs": [],
   "source": [
    "def get_sc_dihedral(coords: Tensor, chi_mask: Tensor, chi_indices: Tensor) -> Tensor:\n",
    "    m = chi_mask.shape[0]\n",
    "    assert m <= 4, f\"{chi_mask.shape}\"\n",
    "    rep_coords = repeat(coords, \"b n a c -> (m b) n a c\", m=m)\n",
    "    print(rep_coords.shape)\n",
    "    assert rep_coords.shape[:2] == chi_indices.shape[:2]\n",
    "    assert chi_indices.shape[2] == 4\n",
    "    select_coords = batched_index_select(rep_coords, chi_indices, dim=2)\n",
    "    assert select_coords.shape[:3] == chi_indices.shape\n",
    "    print(select_coords.shape, chi_indices.shape)\n",
    "    select_coords = rearrange(select_coords,\"b n a c ->  a b n c\")\n",
    "    return signed_dihedral_4(ps=select_coords)"
   ]
  },
  {
   "cell_type": "code",
   "execution_count": 15,
   "metadata": {},
   "outputs": [
    {
     "name": "stdout",
     "output_type": "stream",
     "text": [
      "torch.Size([4, 20, 36, 3])\n",
      "torch.Size([4, 20, 4, 3]) torch.Size([4, 20, 4])\n"
     ]
    },
    {
     "data": {
      "text/plain": [
       "torch.Size([4, 20])"
      ]
     },
     "execution_count": 15,
     "metadata": {},
     "output_type": "execute_result"
    }
   ],
   "source": [
    "seq = \"ARNDCQEGHILKMFPSTWYV\"\n",
    "n,a = len(seq),36\n",
    "atom_masks = torch.randn(1,n,a)>0\n",
    "coords = torch.randn(1,n,a,3)\n",
    "chi_indices, chi_mask = per_residue_chi_indices_n_mask(\n",
    "    coord_mask=atom_masks, seq=seq\n",
    ")\n",
    "get_sc_dihedral(coords, chi_mask, chi_indices).shape"
   ]
  },
  {
   "cell_type": "code",
   "execution_count": 6,
   "metadata": {},
   "outputs": [
    {
     "name": "stdout",
     "output_type": "stream",
     "text": [
      "'ALA':[0.0, 0.0, 0.0, 0.0], \n",
      "'ARG':[0.0, 0.0, 0.0, 0.0], \n",
      "'ASN':[0.0, 0.0, 0.0, 0.0], \n",
      "'ASP':[0.0, 1.0, 0.0, 0.0], \n",
      "'CYS':[0.0, 0.0, 0.0, 0.0], \n",
      "'GLN':[0.0, 0.0, 0.0, 0.0], \n",
      "'GLU':[0.0, 0.0, 1.0, 0.0], \n",
      "'GLY':[0.0, 0.0, 0.0, 0.0], \n",
      "'HIS':[0.0, 0.0, 0.0, 0.0], \n",
      "'ILE':[0.0, 0.0, 0.0, 0.0], \n",
      "'LEU':[0.0, 0.0, 0.0, 0.0], \n",
      "'LYS':[0.0, 0.0, 0.0, 0.0], \n",
      "'MET':[0.0, 0.0, 0.0, 0.0], \n",
      "'PHE':[0.0, 1.0, 0.0, 0.0], \n",
      "'PRO':[0.0, 0.0, 0.0, 0.0], \n",
      "'SER':[0.0, 0.0, 0.0, 0.0], \n",
      "'THR':[0.0, 0.0, 0.0, 0.0], \n",
      "'TRP':[0.0, 0.0, 0.0, 0.0], \n",
      "'TYR':[0.0, 1.0, 0.0, 0.0], \n",
      "'VAL':[0.0, 0.0, 0.0, 0.0], \n",
      "'UNK':[0.0, 0.0, 0.0, 0.0], \n"
     ]
    }
   ],
   "source": [
    "s=\"\"\"\n",
    "    [0.0, 0.0, 0.0, 0.0],  # ALA\n",
    "    [0.0, 0.0, 0.0, 0.0],  # ARG\n",
    "    [0.0, 0.0, 0.0, 0.0],  # ASN\n",
    "    [0.0, 1.0, 0.0, 0.0],  # ASP\n",
    "    [0.0, 0.0, 0.0, 0.0],  # CYS\n",
    "    [0.0, 0.0, 0.0, 0.0],  # GLN\n",
    "    [0.0, 0.0, 1.0, 0.0],  # GLU\n",
    "    [0.0, 0.0, 0.0, 0.0],  # GLY\n",
    "    [0.0, 0.0, 0.0, 0.0],  # HIS\n",
    "    [0.0, 0.0, 0.0, 0.0],  # ILE\n",
    "    [0.0, 0.0, 0.0, 0.0],  # LEU\n",
    "    [0.0, 0.0, 0.0, 0.0],  # LYS\n",
    "    [0.0, 0.0, 0.0, 0.0],  # MET\n",
    "    [0.0, 1.0, 0.0, 0.0],  # PHE\n",
    "    [0.0, 0.0, 0.0, 0.0],  # PRO\n",
    "    [0.0, 0.0, 0.0, 0.0],  # SER\n",
    "    [0.0, 0.0, 0.0, 0.0],  # THR\n",
    "    [0.0, 0.0, 0.0, 0.0],  # TRP\n",
    "    [0.0, 1.0, 0.0, 0.0],  # TYR\n",
    "    [0.0, 0.0, 0.0, 0.0],  # VAL\n",
    "    [0.0, 0.0, 0.0, 0.0],  # UNK\n",
    "\"\"\"\n",
    "s = s.split(\"\\n\")\n",
    "for line in s:\n",
    "    line = line.strip()\n",
    "    if len(line)>0:\n",
    "        arr,name = line.split(\"#\")\n",
    "        print(f\"'{name.strip()}':{arr[:-1]}\")"
   ]
  },
  {
   "cell_type": "code",
   "execution_count": 7,
   "metadata": {},
   "outputs": [],
   "source": [
    "AA_ALPHABET = \"ARNDCQEGHILKMFPSTWYV-\"\n",
    "N_AMINO_ACID_KEYS = 21\n",
    "BB_ATOMS = ['N', 'CA', 'C', 'O']\n",
    "BB_ATOM_POSNS = {a: i for i, a in enumerate(BB_ATOMS)}\n",
    "SC_ATOMS = ['CE3', 'CZ', 'SD', 'CB', 'CD1', 'NH1', 'OG1', 'CE1', 'OE1', 'CZ2', 'OH', 'CG',\n",
    "            'CZ3', 'NE', 'CH2', 'OD1', 'NH2', 'ND2', 'OG', 'CG2', 'OE2', 'CD2', 'ND1', 'NE2',\n",
    "            'NZ', 'CD', 'CE2', 'CE', 'OD2', 'SG', 'NE1', 'CG1']\n",
    "SC_ATOM_POSNS = {a: i for i, a in enumerate(SC_ATOMS)}\n",
    "\n",
    "AA3LetterCode = ['ALA', 'ARG', 'ASN', 'ASP', 'ASX', 'CYS', 'GLU', 'GLN', 'GLX', 'GLY', 'HIS', 'ILE', 'LEU', 'LYS',\n",
    "                 'MET', 'PHE', 'PRO', 'SER', 'THR', 'TRP', 'TYR', 'VAL', \"UNK\"]\n",
    "AA1LetterCode = ['A', 'R', 'N', 'D', 'B', 'C', 'E', 'Q', 'Z', 'G', 'H', 'I', 'L', 'K', 'M', 'F', 'P', 'S', 'T', 'W',\n",
    "                 'Y', 'V', \"-\"]\n",
    "VALID_AA_3_LETTER = set(AA3LetterCode)\n",
    "VALID_AA_1_LETTER = set(AA1LetterCode)\n",
    "\n",
    "ALL_ATOMS = BB_ATOMS + SC_ATOMS\n",
    "ALL_ATOM_POSNS = {a: i for i, a in enumerate(ALL_ATOMS)}\n",
    "\n",
    "THREE_TO_ONE = {three: one for three, one in zip(AA3LetterCode, AA1LetterCode)}\n",
    "ONE_TO_THREE = {one: three for three, one in THREE_TO_ONE.items()}\n",
    "chi_pi_periodic = {\n",
    "    'ALA': [0.0, 0.0, 0.0, 0.0],\n",
    "    'ARG': [0.0, 0.0, 0.0, 0.0],\n",
    "    'ASN': [0.0, 0.0, 0.0, 0.0],\n",
    "    'ASP': [0.0, 1.0, 0.0, 0.0],\n",
    "    'CYS': [0.0, 0.0, 0.0, 0.0],\n",
    "    'GLN': [0.0, 0.0, 0.0, 0.0],\n",
    "    'GLU': [0.0, 0.0, 1.0, 0.0],\n",
    "    'GLY': [0.0, 0.0, 0.0, 0.0],\n",
    "    'HIS': [0.0, 0.0, 0.0, 0.0],\n",
    "    'ILE': [0.0, 0.0, 0.0, 0.0],\n",
    "    'LEU': [0.0, 0.0, 0.0, 0.0],\n",
    "    'LYS': [0.0, 0.0, 0.0, 0.0],\n",
    "    'MET': [0.0, 0.0, 0.0, 0.0],\n",
    "    'PHE': [0.0, 1.0, 0.0, 0.0],\n",
    "    'PRO': [0.0, 0.0, 0.0, 0.0],\n",
    "    'SER': [0.0, 0.0, 0.0, 0.0],\n",
    "    'THR': [0.0, 0.0, 0.0, 0.0],\n",
    "    'TRP': [0.0, 0.0, 0.0, 0.0],\n",
    "    'TYR': [0.0, 1.0, 0.0, 0.0],\n",
    "    'VAL': [0.0, 0.0, 0.0, 0.0],\n",
    "    'UNK': [0.0, 0.0, 0.0, 0.0],\n",
    "}\n",
    "chi_pi_periodic.update({THREE_TO_ONE[r]: arr for r, arr in chi_pi_periodic.items()})"
   ]
  },
  {
   "cell_type": "code",
   "execution_count": 8,
   "metadata": {},
   "outputs": [
    {
     "data": {
      "text/plain": [
       "tensor([[False, False, False, False],\n",
       "        [False, False, False, False],\n",
       "        [False, False, False, False],\n",
       "        [False,  True, False, False],\n",
       "        [False, False, False, False],\n",
       "        [False, False, False, False],\n",
       "        [False, False,  True, False],\n",
       "        [False, False, False, False],\n",
       "        [False, False, False, False],\n",
       "        [False, False, False, False],\n",
       "        [False, False, False, False],\n",
       "        [False, False, False, False],\n",
       "        [False, False, False, False],\n",
       "        [False,  True, False, False],\n",
       "        [False, False, False, False],\n",
       "        [False, False, False, False],\n",
       "        [False, False, False, False],\n",
       "        [False, False, False, False],\n",
       "        [False,  True, False, False],\n",
       "        [False, False, False, False]])"
      ]
     },
     "execution_count": 8,
     "metadata": {},
     "output_type": "execute_result"
    }
   ],
   "source": [
    "def get_chi_pi_periodic_mask(seq : str):\n",
    "    masks = [chi_pi_periodic[r] for r in seq]\n",
    "    return torch.tensor(masks).bool()\n",
    "\n",
    "get_chi_pi_periodic_mask(seq)"
   ]
  },
  {
   "cell_type": "code",
   "execution_count": 9,
   "metadata": {},
   "outputs": [],
   "source": [
    "from protein_learning.protein_utils.sidechain_utils import (\n",
    "    swap_symmetric_atoms,\n",
    "    per_residue_chi_indices_n_mask,\n",
    "    get_chi_pi_periodic_mask,\n",
    "    get_symmetric_residue_keys_n_indices,\n",
    ")"
   ]
  },
  {
   "cell_type": "code",
   "execution_count": 14,
   "metadata": {},
   "outputs": [
    {
     "name": "stdout",
     "output_type": "stream",
     "text": [
      "720 694\n"
     ]
    }
   ],
   "source": [
    "symm_keys_n_indices = get_symmetric_residue_keys_n_indices(seq)\n",
    "alt_truth_coords = swap_symmetric_atoms(coords.squeeze(), symm_keys_n_indices)\n",
    "torch.norm(coords-swap_symmetric_atoms(alt_truth_coords, symm_keys_n_indices))\n",
    "equal_mask = torch.norm(coords-alt_truth_coords,dim=-1)<=1e-6\n",
    "print(equal_mask.numel(), equal_mask[equal_mask].numel())"
   ]
  },
  {
   "cell_type": "code",
   "execution_count": null,
   "metadata": {},
   "outputs": [],
   "source": []
  }
 ],
 "metadata": {
  "kernelspec": {
   "display_name": "Python 3",
   "language": "python",
   "name": "python3"
  },
  "language_info": {
   "codemirror_mode": {
    "name": "ipython",
    "version": 3
   },
   "file_extension": ".py",
   "mimetype": "text/x-python",
   "name": "python",
   "nbconvert_exporter": "python",
   "pygments_lexer": "ipython3",
   "version": "3.8.2"
  }
 },
 "nbformat": 4,
 "nbformat_minor": 4
}
