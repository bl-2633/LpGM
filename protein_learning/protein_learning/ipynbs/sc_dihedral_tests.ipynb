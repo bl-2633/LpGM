{
 "cells": [
  {
   "cell_type": "code",
   "execution_count": 2,
   "metadata": {},
   "outputs": [],
   "source": [
    "import torch\n",
    "n,k,a,s = 20, 4, 16, 40\n",
    "coords = torch.randn(n,a,3)\n",
    "res_index_tensor = torch.randint(0,n,(s,))\n",
    "atom_index_tensor = torch.randint(0,10,(s,k))"
   ]
  },
  {
   "cell_type": "code",
   "execution_count": 16,
   "metadata": {},
   "outputs": [
    {
     "name": "stdout",
     "output_type": "stream",
     "text": [
      "torch.Size([40, 4, 3]) torch.Size([40, 4, 3])\n"
     ]
    },
    {
     "data": {
      "text/plain": [
       "tensor(0.)"
      ]
     },
     "execution_count": 16,
     "metadata": {},
     "output_type": "execute_result"
    }
   ],
   "source": [
    "from einops import repeat\n",
    "indices1 = coords[res_index_tensor][atom_index_tensor]\n",
    "_res_index_tensor = repeat(res_index_tensor,\"n -> (n b)\",b=k)\n",
    "_indices = (_res_index_tensor,atom_index_tensor.flatten())\n",
    "indices2 = coords[_indices].reshape(-1,k,3)\n",
    "indices3 = torch.zeros_like(indices2)\n",
    "for i in range(s):\n",
    "    for j in range(k):\n",
    "        indices3[i,j] = coords[res_index_tensor[i],atom_index_tensor[i,j]]\n",
    "print(indices2.shape, indices3.shape)\n",
    "torch.norm(indices2-indices3)"
   ]
  },
  {
   "cell_type": "code",
   "execution_count": null,
   "metadata": {},
   "outputs": [],
   "source": []
  }
 ],
 "metadata": {
  "kernelspec": {
   "display_name": "Python 3",
   "language": "python",
   "name": "python3"
  },
  "language_info": {
   "codemirror_mode": {
    "name": "ipython",
    "version": 3
   },
   "file_extension": ".py",
   "mimetype": "text/x-python",
   "name": "python",
   "nbconvert_exporter": "python",
   "pygments_lexer": "ipython3",
   "version": "3.8.2"
  }
 },
 "nbformat": 4,
 "nbformat_minor": 4
}
