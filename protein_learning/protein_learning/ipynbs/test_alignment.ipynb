{
 "cells": [
  {
   "cell_type": "code",
   "execution_count": 1,
   "metadata": {},
   "outputs": [],
   "source": [
    "import sys\n",
    "if '/mnt/c/Users/mm851/PycharmProjects/ProteinLearning' not in sys.path:\n",
    "    sys.path = ['/mnt/c/Users/mm851/PycharmProjects/ProteinLearning'] + sys.path"
   ]
  },
  {
   "cell_type": "code",
   "execution_count": 2,
   "metadata": {},
   "outputs": [],
   "source": [
    "from protein_learning.protein_utils.align.kabsch_align import kabsch_align\n",
    "from protein_learning.protein_utils.align.per_residue import get_per_res_alignment\n",
    "import torch\n",
    "import numpy as np"
   ]
  },
  {
   "cell_type": "markdown",
   "metadata": {},
   "source": [
    "# Test kabsch alignment"
   ]
  },
  {
   "cell_type": "code",
   "execution_count": 3,
   "metadata": {},
   "outputs": [],
   "source": [
    "def rotation(a, b, c, device = 'cpu'):\n",
    "    cos, sin = torch.cos, torch.sin\n",
    "    sina, sinb, sinc = sin(a), sin(b), sin(c)\n",
    "    cosa, cosb, cosc = cos(a), cos(b), cos(c)\n",
    "    r = [torch.cat([cosc * cosb - sinc * sina * sinb,\n",
    "          -sinc * cosa,\n",
    "          cosc * sinb + sinc * sina * cosb]),\n",
    "         torch.cat([sinc * cosb + cosc * sina * sinb,\n",
    "          cosc * cosa,\n",
    "          sinc * sinb - cosc * sina * cosb]),\n",
    "         torch.cat([-cosa * sinb, sina, cosa * cosb])]\n",
    "    return torch.vstack(r)\n",
    "\n",
    "def random_rotation(n = 1):\n",
    "    return torch.cat([rotation(*torch.randn(3,1)).unsqueeze(0) for _ in range(n)], dim=0)"
   ]
  },
  {
   "cell_type": "code",
   "execution_count": null,
   "metadata": {},
   "outputs": [],
   "source": []
  },
  {
   "cell_type": "markdown",
   "metadata": {},
   "source": [
    "### simplest case - both sets of coordinates are the same"
   ]
  },
  {
   "cell_type": "code",
   "execution_count": 4,
   "metadata": {},
   "outputs": [],
   "source": [
    "b,n,a,c = 1,4,16,3\n",
    "align_to = torch.randn(n,a,c)\n",
    "align_from = torch.clone(align_to)\n",
    "aligned_to, aligned_from = kabsch_align(align_to = align_to, align_from=align_from)\n",
    "# align_to coords should not change\n",
    "assert torch.allclose(align_to,aligned_to)\n",
    "#both sets of coordinates should be the same\n",
    "assert torch.allclose(aligned_to,aligned_from,atol=1e-5), f\"norm : {torch.norm(aligned_to-aligned_from)}\""
   ]
  },
  {
   "cell_type": "markdown",
   "metadata": {},
   "source": [
    "### apply rotation"
   ]
  },
  {
   "cell_type": "code",
   "execution_count": 5,
   "metadata": {},
   "outputs": [
    {
     "name": "stdout",
     "output_type": "stream",
     "text": [
      "norm(align_to-align_from) : tensor(11.4945)\n",
      "norm(align_to-aligned_to) : tensor(0.)\n",
      "norm(aligned_to-aligned_from) : tensor(3.7099e-06)\n",
      "norm(aligned_from-align_from) : tensor(11.4945)\n"
     ]
    }
   ],
   "source": [
    "b,n,a,c = 1,4,16,3\n",
    "rotn = random_rotation()\n",
    "align_to = torch.randn(n,a,c)\n",
    "align_from = torch.einsum(\"bij,nai->naj\",rotn,align_to)\n",
    "aligned_to, aligned_from = kabsch_align(align_to = align_to, align_from=align_from)\n",
    "# align_to coords should not change\n",
    "print(\"norm(align_to-align_from) :\",torch.norm(align_to-align_from))\n",
    "print(\"norm(align_to-aligned_to) :\",torch.norm(aligned_to-align_to))\n",
    "print(\"norm(aligned_to-aligned_from) :\",torch.norm(aligned_to-aligned_from))\n",
    "print(\"norm(aligned_from-align_from) :\",torch.norm(aligned_from - align_from))\n",
    "\n",
    "assert torch.allclose(align_to,aligned_to)\n",
    "#both sets of coordinates should be the same\n",
    "assert torch.allclose(aligned_to,aligned_from,atol=1e-5), f\"norm : {torch.norm(aligned_to-aligned_from)}\"\n"
   ]
  },
  {
   "cell_type": "markdown",
   "metadata": {},
   "source": [
    "### apply rotation and translation"
   ]
  },
  {
   "cell_type": "code",
   "execution_count": 6,
   "metadata": {},
   "outputs": [
    {
     "name": "stdout",
     "output_type": "stream",
     "text": [
      "norm(align_to-align_from) : tensor(21.9438)\n",
      "norm(align_to-aligned_to) : tensor(0.)\n",
      "norm(aligned_to-aligned_from) : tensor(3.0045e-06)\n",
      "norm(aligned_from-align_from) : tensor(21.9438)\n"
     ]
    }
   ],
   "source": [
    "b,n,a,c = 1,4,16,3\n",
    "rotn = random_rotation()\n",
    "align_to = torch.randn(n,a,c)\n",
    "align_from = torch.einsum(\"bij,nai->naj\",rotn,align_to) + torch.randn(1,1,3)\n",
    "aligned_to, aligned_from = kabsch_align(align_to = align_to, align_from=align_from)\n",
    "# align_to coords should not change\n",
    "print(\"norm(align_to-align_from) :\",torch.norm(align_to-align_from))\n",
    "print(\"norm(align_to-aligned_to) :\",torch.norm(aligned_to-align_to))\n",
    "print(\"norm(aligned_to-aligned_from) :\",torch.norm(aligned_to-aligned_from))\n",
    "print(\"norm(aligned_from-align_from) :\",torch.norm(aligned_from - align_from))\n",
    "\n",
    "assert torch.allclose(align_to,aligned_to)\n",
    "#both sets of coordinates should be the same\n",
    "assert torch.allclose(aligned_to,aligned_from,atol=1e-5), f\"norm : {torch.norm(aligned_to-aligned_from)}\"\n"
   ]
  },
  {
   "cell_type": "markdown",
   "metadata": {},
   "source": [
    "# Test Per-Residue Alignment"
   ]
  },
  {
   "cell_type": "code",
   "execution_count": 16,
   "metadata": {},
   "outputs": [
    {
     "name": "stdout",
     "output_type": "stream",
     "text": [
      "norm(align_to-align_from) : tensor(23.9387)\n",
      "norm(align_to-aligned_to) : tensor(0.)\n",
      "norm(aligned_to-aligned_from) : tensor(5.0102e-06)\n"
     ]
    }
   ],
   "source": [
    "b,n,a,c = 1,16,6,3\n",
    "rotn = random_rotation(n=n)\n",
    "align_to = torch.randn(n,a,c)\n",
    "align_from = torch.einsum(\"nij,nai->naj\",rotn,align_to) + torch.randn(n,1,3)\n",
    "aligned_from = get_per_res_alignment(align_to = align_to[:,:3,:], align_from=align_from[:,:3,:], to_align=align_from)\n",
    "aligned_to = align_to\n",
    "# align_to coords should not change\n",
    "print(\"norm(align_to-align_from) :\",torch.norm(align_to-align_from))\n",
    "print(\"norm(align_to-aligned_to) :\",torch.norm(aligned_to-align_to))\n",
    "print(\"norm(aligned_to-aligned_from) :\",torch.norm(aligned_to-aligned_from))\n",
    "\n",
    "assert torch.allclose(align_to,aligned_to)\n",
    "#both sets of coordinates should be the same\n",
    "assert torch.allclose(aligned_to,aligned_from,atol=1e-5), f\"norm : {torch.norm(aligned_to-aligned_from)}\"\n"
   ]
  },
  {
   "cell_type": "code",
   "execution_count": null,
   "metadata": {},
   "outputs": [],
   "source": []
  },
  {
   "cell_type": "code",
   "execution_count": null,
   "metadata": {},
   "outputs": [],
   "source": []
  },
  {
   "cell_type": "code",
   "execution_count": null,
   "metadata": {},
   "outputs": [],
   "source": []
  },
  {
   "cell_type": "code",
   "execution_count": null,
   "metadata": {},
   "outputs": [],
   "source": []
  },
  {
   "cell_type": "code",
   "execution_count": null,
   "metadata": {},
   "outputs": [],
   "source": []
  },
  {
   "cell_type": "code",
   "execution_count": null,
   "metadata": {},
   "outputs": [],
   "source": []
  },
  {
   "cell_type": "code",
   "execution_count": null,
   "metadata": {},
   "outputs": [],
   "source": []
  },
  {
   "cell_type": "code",
   "execution_count": null,
   "metadata": {},
   "outputs": [],
   "source": []
  },
  {
   "cell_type": "code",
   "execution_count": null,
   "metadata": {},
   "outputs": [],
   "source": []
  },
  {
   "cell_type": "code",
   "execution_count": null,
   "metadata": {},
   "outputs": [],
   "source": []
  }
 ],
 "metadata": {
  "kernelspec": {
   "display_name": "Python 3",
   "language": "python",
   "name": "python3"
  },
  "language_info": {
   "codemirror_mode": {
    "name": "ipython",
    "version": 3
   },
   "file_extension": ".py",
   "mimetype": "text/x-python",
   "name": "python",
   "nbconvert_exporter": "python",
   "pygments_lexer": "ipython3",
   "version": "3.8.2"
  }
 },
 "nbformat": 4,
 "nbformat_minor": 4
}
